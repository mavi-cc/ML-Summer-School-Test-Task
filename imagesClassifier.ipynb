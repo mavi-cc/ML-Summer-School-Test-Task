{
  "nbformat": 4,
  "nbformat_minor": 0,
  "metadata": {
    "kernelspec": {
      "display_name": "Python 3",
      "language": "python",
      "name": "python3"
    },
    "language_info": {
      "codemirror_mode": {
        "name": "ipython",
        "version": 3
      },
      "file_extension": ".py",
      "mimetype": "text/x-python",
      "name": "python",
      "nbconvert_exporter": "python",
      "pygments_lexer": "ipython3",
      "version": "3.7.0"
    },
    "colab": {
      "name": "imagesClassifier.ipynb",
      "version": "0.3.2",
      "provenance": []
    }
  },
  "cells": [
    {
      "cell_type": "markdown",
      "metadata": {
        "id": "AeW_MbPSQIBW",
        "colab_type": "text"
      },
      "source": [
        "# Description\n",
        "\n",
        "Finds similar images in a given folder and prints similar pairs.\n",
        "\n",
        "There are three types of similarity:\n",
        "  - duplicate (images which are exactly the same)\n",
        "  - modification (images which differ by size, blur level or noise filters)\n",
        "  - similar (images of the same scene from another angle)\n"
      ]
    },
    {
      "cell_type": "code",
      "metadata": {
        "id": "rSiOzSXygWI6",
        "colab_type": "code",
        "outputId": "9866b8fa-0537-4c3e-c721-f144ae6567da",
        "colab": {
          "base_uri": "https://localhost:8080/",
          "height": 154
        }
      },
      "source": [
        "import os\n",
        "import glob\n",
        "import numpy as np\n",
        "import itertools\n",
        "\n",
        "from PIL import Image\n",
        "from PIL.ImageStat import Stat\n",
        "from PIL import ImageChops as ops\n",
        "\n",
        "from google.colab import drive, files\n",
        "drive.mount(\"/content/drive\")\n",
        "\n",
        "\n",
        "def str2hex(chain):\n",
        "  return str(hex(int(chain, 2)))[2:][::-1].upper()\n",
        "\n",
        "\n",
        "def average_hashing(img, size=32):\n",
        "  size_ = int(np.sqrt(size))    # resize image\n",
        "  img = img.resize((size_, size_), resample=Image.BICUBIC).convert('L')    # resize and convert to grayscale\n",
        "\n",
        "  pix_data = np.array(img)\n",
        "  pix = (pix_data.ravel() > pix_data.mean()).astype(np.int32)\n",
        "  chain = ''.join('{}'.format(i) for i in pix)\n",
        "  hex_res = str2hex(chain)\n",
        "\n",
        "  return hex_res\n",
        "\n",
        "  \n",
        "def hamming_distance(img0, img1):\n",
        "  return np.sum(img0 != img1)\n",
        "\n",
        "\n",
        "def main(path):   \n",
        "  res = []\n",
        "  images = {image: Image.open(image) for image in glob.glob(path)}\n",
        "\n",
        "  for image0, image1 in itertools.combinations(images.keys(), 2):     \n",
        "      hex0 = average_hashing(images[image0])\n",
        "      hex1 = average_hashing(images[image1])\n",
        "\n",
        "      if hamming_distance(hex0, hex1) == 0:\n",
        "          res.append([os.path.basename(image0), os.path.basename(image1)])\n",
        "  \n",
        "  for im in res:\n",
        "      print(im)\n",
        "      \n",
        "if __name__==\"__main__\":\n",
        "  main(\"/content/drive/My Drive/ML-Summer-School-Test/dev_dataset/*\")"
      ],
      "execution_count": 0,
      "outputs": [
        {
          "output_type": "stream",
          "text": [
            "Drive already mounted at /content/drive; to attempt to forcibly remount, call drive.mount(\"/content/drive\", force_remount=True).\n",
            "['1.jpg', '1_duplicate.jpg']\n",
            "['11_modification.jpg', '11.jpg']\n",
            "['11_modification.jpg', '11_duplicate.jpg']\n",
            "['6.jpg', '6_similar.jpg']\n",
            "['15_modification.jpg', '15.jpg']\n",
            "['11.jpg', '11_duplicate.jpg']\n"
          ],
          "name": "stdout"
        }
      ]
    }
  ]
}